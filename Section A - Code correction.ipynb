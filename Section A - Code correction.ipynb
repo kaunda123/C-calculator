{
 "cells": [
  {
   "cell_type": "code",
   "execution_count": null,
   "id": "b853a6a8",
   "metadata": {},
   "outputs": [],
   "source": [
    "# Please see comments on errors of your code below. The revised solution is shown in the next cell. \n",
    "class Solution:\n",
    "       def groupAnagrams(self, strs):# Fix indentation and rather use the __init__ method.\n",
    "      result = {} # Square brackets are used for lists not curly brackets.\n",
    "      for i in strs:\n",
    "         x = \"\".join(sorted()) # You forgot to include the i, also fix indentation.\n",
    "         if x in result: # Rather use \"not in\" instead \"in\", see solution in the next cell.\n",
    "            result[x].append(i) # You cannot use x as an index. Only append i.\n",
    "         else: # Remove this line and follow solutions in the next cell.\n",
    "            result[x] = [i] # Remove this line and follow solutions in the next cell.\n",
    "      return list(result.values()) # Remove this line and follow solutions in the next cell.\n",
    "ob1 = Solution() # List input should be here.\n",
    "print(ob1.groupAnagrams([\"eat\", \"tea\", \"tan\", \"ate\", \"nat\", \"bat\"]))"
   ]
  },
  {
   "cell_type": "code",
   "execution_count": 69,
   "id": "df591abc",
   "metadata": {},
   "outputs": [
    {
     "name": "stdout",
     "output_type": "stream",
     "text": [
      "[['eat', 'tea', 'ate'], ['tan', 'nat'], ['bat']]\n"
     ]
    }
   ],
   "source": [
    "class Solution: \n",
    "    def __init__(self,strs): # indentation corrected and groupAnagrams changed to __init__\n",
    "        result = []\n",
    "        self.groupAnagrams = [[]]\n",
    "        for i in strs:\n",
    "            x = \"\".join(sorted(i)) # Sort i\n",
    "            if x not in result:\n",
    "                result.append(x) #\n",
    "                \n",
    "        # Create empty lists for your groups of anagrams\n",
    "        self.groupAnagrams = [[]]\n",
    "        for j in range(len(result)-1):\n",
    "            self.groupAnagrams.append([])\n",
    "            \n",
    "        # Now that you have all the possible sorted anagrams in x, setup a nested for loop.\n",
    "        # Loop result and strs\n",
    "        for j in range(len(result)):\n",
    "            for i in strs:\n",
    "                if \"\".join(sorted(i))==result[j]: # Check if the strings are the same as the string groups.\n",
    "                    self.groupAnagrams[j].append(i) # Append the strings to their groups.\n",
    "\n",
    "ob1 = Solution([\"eat\", \"tea\", \"tan\", \"ate\", \"nat\", \"bat\"])\n",
    "print(ob1.groupAnagrams)"
   ]
  }
 ],
 "metadata": {
  "kernelspec": {
   "display_name": "Python 3 (ipykernel)",
   "language": "python",
   "name": "python3"
  },
  "language_info": {
   "codemirror_mode": {
    "name": "ipython",
    "version": 3
   },
   "file_extension": ".py",
   "mimetype": "text/x-python",
   "name": "python",
   "nbconvert_exporter": "python",
   "pygments_lexer": "ipython3",
   "version": "3.9.13"
  }
 },
 "nbformat": 4,
 "nbformat_minor": 5
}
